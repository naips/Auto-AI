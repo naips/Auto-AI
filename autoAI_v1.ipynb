{
 "cells": [
  {
   "cell_type": "code",
   "execution_count": 94,
   "metadata": {},
   "outputs": [],
   "source": [
    "import pandas as pd\n",
    "import numpy as np\n",
    "import copy\n",
    "from random import random\n",
    "import time\n",
    "from time import sleep\n",
    "import progressbar"
   ]
  },
  {
   "cell_type": "code",
   "execution_count": 95,
   "metadata": {},
   "outputs": [
    {
     "name": "stdout",
     "output_type": "stream",
     "text": [
      "**********************************************\n",
      "*** WELCOME TO AUTO AI CLASSIFICATION TOOL***\n",
      "**********************************************\n"
     ]
    }
   ],
   "source": [
    "print('************************************************')\n",
    "print('*** WELCOME TO AUTO-AI CLASSIFICATION TOOL***')\n",
    "print('************************************************')"
   ]
  },
  {
   "cell_type": "code",
   "execution_count": 96,
   "metadata": {},
   "outputs": [],
   "source": [
    "def prog_bar():\n",
    "        bar = progressbar.ProgressBar(maxval=20, \n",
    "                                      widgets=[progressbar.Bar('=', '[', ']'), ' ', progressbar.Percentage()])\n",
    "        bar.start()\n",
    "        time.sleep(5)\n",
    "        for i in range(20):\n",
    "            bar.update(i+1)\n",
    "            sleep(0.1)\n",
    "        bar.finish()"
   ]
  },
  {
   "cell_type": "code",
   "execution_count": 97,
   "metadata": {},
   "outputs": [],
   "source": [
    "def plot_auc(ytest, preds):\n",
    "    fpr, tpr, threshold = roc_curve(ytest, preds)\n",
    "    roc_auc = auc(fpr, tpr)\n",
    "\n",
    "    plt.title('Receiver Operating Characteristic')\n",
    "    plt.plot(fpr, tpr, 'b', label = 'AUC = %0.2f' % roc_auc)\n",
    "    plt.legend(loc = 'lower right')\n",
    "    plt.plot([0, 1], [0, 1],'r--')\n",
    "    plt.xlim([0, 1])\n",
    "    plt.ylim([0, 1])\n",
    "    plt.ylabel('True Positive Rate')\n",
    "    plt.xlabel('False Positive Rate')\n",
    "    plt.show()"
   ]
  },
  {
   "cell_type": "code",
   "execution_count": 98,
   "metadata": {},
   "outputs": [
    {
     "name": "stdin",
     "output_type": "stream",
     "text": [
      "Please provide the train data path: \n",
      " F:\\D\\Practice\\adult\\adult_train.csv\n"
     ]
    }
   ],
   "source": [
    "path_train = input('Please provide the train data path: \\n')\n",
    "try:\n",
    "    train = pd.read_csv(path_train)\n",
    "except:\n",
    "    print('Please provide a valid path and run again: \\n')\n",
    "    pass"
   ]
  },
  {
   "cell_type": "code",
   "execution_count": 99,
   "metadata": {},
   "outputs": [
    {
     "name": "stdin",
     "output_type": "stream",
     "text": [
      "Provide the test data path... if test data is not available type 'NA' to use cross validation on train data: \n",
      " NA\n"
     ]
    }
   ],
   "source": [
    "path_test = input(\"Provide the test data path... if test data is not available type 'NA' to use cross validation on train data: \\n\")\n",
    "if path_test == 'NA': \n",
    "                  test = train.iloc[int(len(train)*0.7):, :]\n",
    "                  train = train.iloc[:int(len(train)*0.7):]\n",
    "else:\n",
    "                  try:\n",
    "                      test = pd.read_csv(path_test)\n",
    "                  except:\n",
    "                        print('Please provide a valid path and run again')\n",
    "                        pass"
   ]
  },
  {
   "cell_type": "code",
   "execution_count": 100,
   "metadata": {},
   "outputs": [],
   "source": [
    "class pre_processing:\n",
    "    def __init__(self, df_train, df_test, outcome):\n",
    "        self.train = df_train\n",
    "        self.test = df_test\n",
    "        self.outcome = outcome\n",
    "    def encode(self, how = 'label'):\n",
    "        prog_bar()\n",
    "        print('-- Initialising categorical columns encoding--\\n')\n",
    "        \n",
    "      #  time.sleep(5)\n",
    "        cat_cols = set(self.train.columns) - set(self.train._get_numeric_data().columns)\n",
    "        cat_cols = list(cat_cols -{self.outcome})\n",
    "        \n",
    "        for col in cat_cols:\n",
    "         \n",
    "            self.train[col] = self.train[col].fillna('--null')\n",
    "            train.shape\n",
    "            freq = self.train[col].value_counts()\n",
    "        \n",
    "            if len(freq) > 5:\n",
    "                list_ = list(self.train[col].value_counts().index)\n",
    "                self.train[col] = self.train[col].apply(lambda x: x if x in list_ else 'remaining_ALL')\n",
    "                self.test[col] = self.test[col].apply(lambda x: x if x in list_ else 'remaining_ALL')\n",
    "        \n",
    "                \n",
    "        if how == 'label':\n",
    "            from sklearn.preprocessing import LabelEncoder\n",
    "            le = LabelEncoder()\n",
    "            for col in cat_cols:\n",
    "                self.train[col] = le.fit_transform(self.train[col].astype(str))\n",
    "                self.test[col] = le.transform(self.test[col].astype(str))\n",
    "            \n",
    "        if how == 'ohe':\n",
    " \n",
    "            X_train = pd.get_dummies(self.train[cat_cols], prefix = None, prefix_sep = '--', dummy_na = False, drop_first = True)\n",
    "            X_test = pd.get_dummies(self.test[cat_cols], prefix = None, prefix_sep = '--', dummy_na = False, drop_first = True)\n",
    "            \n",
    "\n",
    "            no_cols = set(X_train.columns) - set(X_test.columns)\n",
    "            for col in no_cols:\n",
    "                X_test[col] = np.zeros(X_test.shape[0])\n",
    "            X_test = X_test[X_train.columns]\n",
    "            \n",
    "            self.train.drop(cat_cols, axis=1, inplace=True)\n",
    "            self.test.drop(cat_cols, axis=1, inplace=True)\n",
    "\n",
    "            self.train = pd.concat([self.train, X_train], axis = 1)\n",
    "            self.test = pd.concat([self.test, X_test], axis = 1)\n",
    "        print('columns encoded: ')\n",
    "        for cat in cat_cols:\n",
    "            print(cat)\n",
    "        \n",
    "        print('-- Categorical columns encoding completed with {} encoding --'.format(how))\n",
    "    def treat_missing(self, how = 'add_col'):\n",
    "        prog_bar()\n",
    "        print('-- Initialising NULL values imputation --\\n')\n",
    "        \n",
    "  #      time.sleep(5)\n",
    "        if how == 'add_col':\n",
    "            null_num = self.train.isna().sum()\n",
    "            null_list = list(null_num[null_num > 0].index)\n",
    "\n",
    "            for col in null_list:\n",
    "                self.train[col + '--null'] = np.where(self.train[col].isna(), 1, 0)\n",
    "                self.test[col + '--null'] = np.where(self.test[col].isna(), 1, 0)\n",
    "            self.train.fillna(0, inplace = True)\n",
    "            self.test.fillna(0, inplace = True)\n",
    "        print('-- Missing values imputed with {} imputation --'.format(how))\n",
    "    def standardization(self, how = 'quantile', dump_data = 'yes'):\n",
    "        prog_bar()\n",
    "        outcome_1 = self.train[self.outcome].value_counts().index[1]\n",
    "        outcome_0 = self.train[self.outcome].value_counts().index[0]\n",
    "        \n",
    "        train_Y = self.train[self.outcome].apply(lambda x: 1 if x==outcome_1 else 0)\n",
    "        train_X = self.train.drop(self.outcome, axis = 1)\n",
    "\n",
    "        test_Y = self.test[self.outcome].apply(lambda x: 1 if x==outcome_1 else 0)\n",
    "        test_X = self.test.drop(self.outcome, axis = 1)\n",
    "        \n",
    "        if how == 'quantile':\n",
    "\n",
    "            from sklearn.preprocessing import QuantileTransformer\n",
    "            scaler = QuantileTransformer(n_quantiles = 1000)\n",
    "            scaler.fit(train_X)\n",
    "            train_X2 = pd.DataFrame(scaler.transform(train_X), columns = train_X.columns)\n",
    "            test_X2 = pd.DataFrame(scaler.transform(test_X), columns = train_X.columns)\n",
    "\n",
    "\n",
    "        if how == 'mean':\n",
    "            train_X2 = (train_X - train_X.mean())/train.std()\n",
    "            test_X2 = (test_X - test_X.mean())/test_X.std()\n",
    "\n",
    "        if dump_data == 'yes':\n",
    "            import pickle\n",
    "            pickle.dump(train_X2, open('train_X.pkl', 'wb'), protocol = 4)\n",
    "            pickle.dump(test_X2, open('test_X.pkl', 'wb'), protocol = 4)\n",
    "            pickle.dump(train_Y, open('train_Y.pkl', 'wb'), protocol = 4)\n",
    "            pickle.dump(train_X2, open('test_Y.pkl', 'wb'), protocol = 4)\n",
    "\n",
    "        print('-- Standardization completed with {} normalization --'.format(how))\n",
    "        return train_X2, train_Y, test_X2, test_Y\n",
    "\n"
   ]
  },
  {
   "cell_type": "code",
   "execution_count": 101,
   "metadata": {},
   "outputs": [
    {
     "name": "stdin",
     "output_type": "stream",
     "text": [
      "Please input the target column: \n",
      " label\n"
     ]
    }
   ],
   "source": [
    "target = input('Please input the target column: \\n')\n",
    "c = pre_processing(train, test, target)"
   ]
  },
  {
   "cell_type": "code",
   "execution_count": 102,
   "metadata": {},
   "outputs": [
    {
     "name": "stdin",
     "output_type": "stream",
     "text": [
      "Categorical columns encoding: 1- label encoding, 2- OHE \n",
      " Entered value:  2\n"
     ]
    },
    {
     "name": "stderr",
     "output_type": "stream",
     "text": [
      "[========================================================================] 100%\n"
     ]
    },
    {
     "name": "stdout",
     "output_type": "stream",
     "text": [
      "-- Initialising categorical columns encoding--\n",
      "\n",
      "columns encoded: \n",
      "workclass\n",
      "native_country\n",
      "education\n",
      "sex\n",
      "race\n",
      "marital\n",
      "relationship\n",
      "occupation\n",
      "-- Categorical columns encoding completed with ohe encoding --\n"
     ]
    }
   ],
   "source": [
    "encoding = input('Categorical columns encoding: 1- label encoding, 2- OHE \\n Entered value: ')\n",
    "if encoding == '1':\n",
    "    enc = 'label'\n",
    "if encoding == '2':\n",
    "    enc = 'ohe'\n",
    "c.encode(how = enc)"
   ]
  },
  {
   "cell_type": "code",
   "execution_count": 103,
   "metadata": {},
   "outputs": [
    {
     "name": "stdin",
     "output_type": "stream",
     "text": [
      "Missing values Inpute: 1- add_col, 2- mean  \n",
      " Entered value:  1\n"
     ]
    },
    {
     "name": "stderr",
     "output_type": "stream",
     "text": [
      "[========================================================================] 100%\r"
     ]
    },
    {
     "name": "stdout",
     "output_type": "stream",
     "text": [
      "-- Initialising NULL values imputation --\n",
      "\n",
      "-- Missing values imputed with add_col imputation --\n"
     ]
    },
    {
     "name": "stderr",
     "output_type": "stream",
     "text": [
      "\n"
     ]
    }
   ],
   "source": [
    "treat_miss = input('Missing values Inpute: 1- add_col, 2- mean  \\n Entered value: ')\n",
    "if treat_miss == '1':\n",
    "    enc = 'add_col'\n",
    "if treat_miss == '2':\n",
    "    enc = 'mean'\n",
    "c.treat_missing(how = enc)"
   ]
  },
  {
   "cell_type": "code",
   "execution_count": 104,
   "metadata": {},
   "outputs": [
    {
     "name": "stdin",
     "output_type": "stream",
     "text": [
      "Standardization: 1- mean, 2- quantile, 3- min-max  \n",
      " Entered value: 2\n",
      "Do you want the dump of preprocessed data:  No\n"
     ]
    },
    {
     "name": "stderr",
     "output_type": "stream",
     "text": [
      "[========================================================================] 100%\n"
     ]
    },
    {
     "name": "stdout",
     "output_type": "stream",
     "text": [
      "-- Standardization completed with quantile normalization --\n"
     ]
    }
   ],
   "source": [
    "treat_miss = input('Standardization: 1- mean, 2- quantile, 3- min-max  \\n Entered value:')\n",
    "dum_data = input('Do you want the dump of preprocessed data: ')\n",
    "if treat_miss == '1':\n",
    "    enc = 'mean'\n",
    "if treat_miss == '2':\n",
    "    enc = 'quantile'\n",
    "\n",
    "train_X2, train_Y, test_X2, test_Y = c.standardization(how = enc, dump_data = dum_data)"
   ]
  },
  {
   "cell_type": "markdown",
   "metadata": {},
   "source": [
    "## Modeling"
   ]
  },
  {
   "cell_type": "code",
   "execution_count": null,
   "metadata": {},
   "outputs": [],
   "source": [
    "print('------------------------------------------------------')\n",
    "print('*** FITTING XGBOOST AND LOGISTIC REGRESSION MODELS **')\n",
    "print('------------------------------------------------------')"
   ]
  },
  {
   "cell_type": "code",
   "execution_count": 72,
   "metadata": {},
   "outputs": [],
   "source": [
    "from sklearn import preprocessing\n",
    "from sklearn.feature_selection import RFE\n",
    "from sklearn.model_selection import cross_val_score, train_test_split\n",
    "from sklearn.metrics import confusion_matrix, accuracy_score, recall_score, precision_score, roc_auc_score, roc_curve, precision_recall_curve, f1_score, auc\n",
    "from sklearn.model_selection import RandomizedSearchCV\n",
    "from sklearn.ensemble import RandomForestClassifier\n",
    "from sklearn.ensemble import GradientBoostingClassifier\n",
    "from sklearn.linear_model import LogisticRegression as LR\n",
    "from xgboost import XGBClassifier\n",
    "import matplotlib.pyplot as plt\n",
    "import scikitplot as skplt\n",
    "\n",
    "\n",
    "#%matplotlib inline"
   ]
  },
  {
   "cell_type": "code",
   "execution_count": 73,
   "metadata": {},
   "outputs": [],
   "source": [
    "def fit_model(model, train_X, train_Y, test_X, test_Y, grid, cv=5, n_jobs=20, score='roc_auc', feat_imp = 'ensemble'):\n",
    "    random_search = RandomizedSearchCV(estimator = model(random_state=0), param_distributions=grid, \n",
    "                                       n_iter =sum(map(len, grid.values()))-5, cv=cv, verbose=5, n_jobs=n_jobs, scoring=score)\n",
    "    random_search.fit(train_X2, train_Y)\n",
    "    \n",
    "    print('--best params--\\n')\n",
    "    print(random_search.best_params_)\n",
    "    print('---------')\n",
    "    \n",
    "    print('--best_scores-- \\n')\n",
    "    print(random_search.best_score_)\n",
    "    \n",
    "    rfc_tuned = random_search.best_estimator_.fit(train_X, train_Y)\n",
    "    xTrain_score = rfc_tuned.predict_proba(train_X)[:,1].astype('float64')\n",
    "    xTest_score = rfc_tuned.predict_proba(test_X)[:,1].astype('float64')\n",
    "    auc_xTrain = roc_auc_score(train_Y, xTrain_score)\n",
    "    auc_xTest = roc_auc_score(test_Y, xTest_score)\n",
    "    dataset = pd.DataFrame(['Train', 'Test'], columns = ['Dataset'])\n",
    "    auc = pd.DataFrame([auc_xTrain, auc_xTest], columns = ['AUC'])\n",
    "    gini = pd.DataFrame([2*auc_xTrain-1, 2*auc_xTest-1], columns = ['gini'])\n",
    "    table = pd.concat([dataset, auc, gini], axis=1)\n",
    "    \n",
    "    if feat_imp == 'ensemble':\n",
    "        var_imp = pd.DataFrame(dict(zip(train_X.columns, random_search.best_estimator_.feature_importances_))\n",
    "                               .items()).sort_values(1, ascending=False)\n",
    "    else:\n",
    "        lr_imp = abs(random_search.best_estimator_.coef_[0])/abs(random_search.best_estimator_.coef_[0]).sum()\n",
    "        var_imp = pd.DataFrame(dict(zip(train_X.columns, lr_imp)).items()).sort_values(1, ascending = False)\n",
    "        \n",
    "    var_imp.columns = ['Feature', 'Importance']\n",
    "    \n",
    "    plot_auc(train_Y, xTrain_score)\n",
    "    plot_auc(test_Y, xTest_score)\n",
    "    \n",
    "    return table, var_imp\n"
   ]
  },
  {
   "cell_type": "code",
   "execution_count": null,
   "metadata": {},
   "outputs": [],
   "source": [
    "print('-- Started Training XGBoost Model --')"
   ]
  },
  {
   "cell_type": "code",
   "execution_count": 58,
   "metadata": {},
   "outputs": [],
   "source": [
    "xgb_grid = {'n_estimators': [int(x) for x in np.linspace(start=40, stop=300, num=20)],\n",
    "            'eta':[ 0.01, 0.1, 1],\n",
    "            'max_depth':[2,3,4]\n",
    "            }"
   ]
  },
  {
   "cell_type": "code",
   "execution_count": 59,
   "metadata": {},
   "outputs": [
    {
     "name": "stdout",
     "output_type": "stream",
     "text": [
      "Fitting 5 folds for each of 21 candidates, totalling 105 fits\n"
     ]
    },
    {
     "name": "stderr",
     "output_type": "stream",
     "text": [
      "[Parallel(n_jobs=50)]: Using backend LokyBackend with 50 concurrent workers.\n",
      "[Parallel(n_jobs=50)]: Done  17 out of 105 | elapsed:   54.7s remaining:  4.7min\n",
      "[Parallel(n_jobs=50)]: Done  28 out of 105 | elapsed:  1.2min remaining:  3.4min\n",
      "[Parallel(n_jobs=50)]: Done  39 out of 105 | elapsed:  1.5min remaining:  2.5min\n",
      "[Parallel(n_jobs=50)]: Done  50 out of 105 | elapsed:  1.8min remaining:  2.0min\n",
      "[Parallel(n_jobs=50)]: Done  61 out of 105 | elapsed:  1.9min remaining:  1.4min\n",
      "[Parallel(n_jobs=50)]: Done  72 out of 105 | elapsed:  2.1min remaining:   58.0s\n",
      "[Parallel(n_jobs=50)]: Done  83 out of 105 | elapsed:  2.3min remaining:   36.2s\n",
      "[Parallel(n_jobs=50)]: Done  94 out of 105 | elapsed:  2.4min remaining:   16.8s\n",
      "[Parallel(n_jobs=50)]: Done 105 out of 105 | elapsed:  2.6min remaining:    0.0s\n",
      "[Parallel(n_jobs=50)]: Done 105 out of 105 | elapsed:  2.6min finished\n"
     ]
    },
    {
     "name": "stdout",
     "output_type": "stream",
     "text": [
      "--best params--\n",
      "\n",
      "{'n_estimators': 272, 'max_depth': 4, 'eta': 0.1}\n",
      "---------\n",
      "--best_scores-- \n",
      "\n",
      "0.9220067472860004\n"
     ]
    },
    {
     "name": "stderr",
     "output_type": "stream",
     "text": [
      "D:\\anaconda\\envs\\tf_2\\lib\\site-packages\\sklearn\\utils\\deprecation.py:87: FutureWarning: Function plot_roc_curve is deprecated; This will be removed in v0.5.0. Please use scikitplot.metrics.plot_roc instead.\n",
      "  warnings.warn(msg, category=FutureWarning)\n"
     ]
    },
    {
     "ename": "IndexError",
     "evalue": "too many indices for array",
     "output_type": "error",
     "traceback": [
      "\u001b[1;31m---------------------------------------------------------------------------\u001b[0m",
      "\u001b[1;31mIndexError\u001b[0m                                Traceback (most recent call last)",
      "\u001b[1;32m<ipython-input-59-42e5f141f8a0>\u001b[0m in \u001b[0;36m<module>\u001b[1;34m\u001b[0m\n\u001b[0;32m      1\u001b[0m tab_xgb, imp_xgb = fit_model(XGBClassifier, train_X2, train_Y, test_X2, test_Y, xgb_grid, \n\u001b[1;32m----> 2\u001b[1;33m                              cv=5, n_jobs =50, score = 'roc_auc', feat_imp = 'ensemble')\n\u001b[0m",
      "\u001b[1;32m<ipython-input-57-093dd2f39709>\u001b[0m in \u001b[0;36mfit_model\u001b[1;34m(model, train_X, train_Y, test_X, test_Y, grid, cv, n_jobs, score, feat_imp)\u001b[0m\n\u001b[0;32m     32\u001b[0m \u001b[1;33m\u001b[0m\u001b[0m\n\u001b[0;32m     33\u001b[0m \u001b[1;33m\u001b[0m\u001b[0m\n\u001b[1;32m---> 34\u001b[1;33m     \u001b[0mskplt\u001b[0m\u001b[1;33m.\u001b[0m\u001b[0mmetrics\u001b[0m\u001b[1;33m.\u001b[0m\u001b[0mplot_roc_curve\u001b[0m\u001b[1;33m(\u001b[0m\u001b[0mtrain_Y\u001b[0m\u001b[1;33m,\u001b[0m \u001b[0mxTrain_score\u001b[0m\u001b[1;33m)\u001b[0m\u001b[1;33m\u001b[0m\u001b[1;33m\u001b[0m\u001b[0m\n\u001b[0m\u001b[0;32m     35\u001b[0m     \u001b[0mskplt\u001b[0m\u001b[1;33m.\u001b[0m\u001b[0mmetrics\u001b[0m\u001b[1;33m.\u001b[0m\u001b[0mplot_roc_curve\u001b[0m\u001b[1;33m(\u001b[0m\u001b[0mtest_Y\u001b[0m\u001b[1;33m,\u001b[0m \u001b[0mxTest_score\u001b[0m\u001b[1;33m)\u001b[0m\u001b[1;33m\u001b[0m\u001b[1;33m\u001b[0m\u001b[0m\n\u001b[0;32m     36\u001b[0m     \u001b[0mplt\u001b[0m\u001b[1;33m.\u001b[0m\u001b[0mshow\u001b[0m\u001b[1;33m(\u001b[0m\u001b[1;33m)\u001b[0m\u001b[1;33m\u001b[0m\u001b[1;33m\u001b[0m\u001b[0m\n",
      "\u001b[1;32mD:\\anaconda\\envs\\tf_2\\lib\\site-packages\\sklearn\\utils\\deprecation.py\u001b[0m in \u001b[0;36mwrapped\u001b[1;34m(*args, **kwargs)\u001b[0m\n\u001b[0;32m     86\u001b[0m         \u001b[1;32mdef\u001b[0m \u001b[0mwrapped\u001b[0m\u001b[1;33m(\u001b[0m\u001b[1;33m*\u001b[0m\u001b[0margs\u001b[0m\u001b[1;33m,\u001b[0m \u001b[1;33m**\u001b[0m\u001b[0mkwargs\u001b[0m\u001b[1;33m)\u001b[0m\u001b[1;33m:\u001b[0m\u001b[1;33m\u001b[0m\u001b[1;33m\u001b[0m\u001b[0m\n\u001b[0;32m     87\u001b[0m             \u001b[0mwarnings\u001b[0m\u001b[1;33m.\u001b[0m\u001b[0mwarn\u001b[0m\u001b[1;33m(\u001b[0m\u001b[0mmsg\u001b[0m\u001b[1;33m,\u001b[0m \u001b[0mcategory\u001b[0m\u001b[1;33m=\u001b[0m\u001b[0mFutureWarning\u001b[0m\u001b[1;33m)\u001b[0m\u001b[1;33m\u001b[0m\u001b[1;33m\u001b[0m\u001b[0m\n\u001b[1;32m---> 88\u001b[1;33m             \u001b[1;32mreturn\u001b[0m \u001b[0mfun\u001b[0m\u001b[1;33m(\u001b[0m\u001b[1;33m*\u001b[0m\u001b[0margs\u001b[0m\u001b[1;33m,\u001b[0m \u001b[1;33m**\u001b[0m\u001b[0mkwargs\u001b[0m\u001b[1;33m)\u001b[0m\u001b[1;33m\u001b[0m\u001b[1;33m\u001b[0m\u001b[0m\n\u001b[0m\u001b[0;32m     89\u001b[0m \u001b[1;33m\u001b[0m\u001b[0m\n\u001b[0;32m     90\u001b[0m         \u001b[0mwrapped\u001b[0m\u001b[1;33m.\u001b[0m\u001b[0m__doc__\u001b[0m \u001b[1;33m=\u001b[0m \u001b[0mself\u001b[0m\u001b[1;33m.\u001b[0m\u001b[0m_update_doc\u001b[0m\u001b[1;33m(\u001b[0m\u001b[0mwrapped\u001b[0m\u001b[1;33m.\u001b[0m\u001b[0m__doc__\u001b[0m\u001b[1;33m)\u001b[0m\u001b[1;33m\u001b[0m\u001b[1;33m\u001b[0m\u001b[0m\n",
      "\u001b[1;32mD:\\anaconda\\envs\\tf_2\\lib\\site-packages\\scikitplot\\metrics.py\u001b[0m in \u001b[0;36mplot_roc_curve\u001b[1;34m(y_true, y_probas, title, curves, ax, figsize, cmap, title_fontsize, text_fontsize)\u001b[0m\n\u001b[0;32m    255\u001b[0m     \u001b[0mroc_auc\u001b[0m \u001b[1;33m=\u001b[0m \u001b[0mdict\u001b[0m\u001b[1;33m(\u001b[0m\u001b[1;33m)\u001b[0m\u001b[1;33m\u001b[0m\u001b[1;33m\u001b[0m\u001b[0m\n\u001b[0;32m    256\u001b[0m     \u001b[1;32mfor\u001b[0m \u001b[0mi\u001b[0m \u001b[1;32min\u001b[0m \u001b[0mrange\u001b[0m\u001b[1;33m(\u001b[0m\u001b[0mlen\u001b[0m\u001b[1;33m(\u001b[0m\u001b[0mclasses\u001b[0m\u001b[1;33m)\u001b[0m\u001b[1;33m)\u001b[0m\u001b[1;33m:\u001b[0m\u001b[1;33m\u001b[0m\u001b[1;33m\u001b[0m\u001b[0m\n\u001b[1;32m--> 257\u001b[1;33m         fpr[i], tpr[i], _ = roc_curve(y_true, probas[:, i],\n\u001b[0m\u001b[0;32m    258\u001b[0m                                       pos_label=classes[i])\n\u001b[0;32m    259\u001b[0m         \u001b[0mroc_auc\u001b[0m\u001b[1;33m[\u001b[0m\u001b[0mi\u001b[0m\u001b[1;33m]\u001b[0m \u001b[1;33m=\u001b[0m \u001b[0mauc\u001b[0m\u001b[1;33m(\u001b[0m\u001b[0mfpr\u001b[0m\u001b[1;33m[\u001b[0m\u001b[0mi\u001b[0m\u001b[1;33m]\u001b[0m\u001b[1;33m,\u001b[0m \u001b[0mtpr\u001b[0m\u001b[1;33m[\u001b[0m\u001b[0mi\u001b[0m\u001b[1;33m]\u001b[0m\u001b[1;33m)\u001b[0m\u001b[1;33m\u001b[0m\u001b[1;33m\u001b[0m\u001b[0m\n",
      "\u001b[1;31mIndexError\u001b[0m: too many indices for array"
     ]
    }
   ],
   "source": [
    "tab_xgb, imp_xgb = fit_model(XGBClassifier, train_X2, train_Y, test_X2, test_Y, xgb_grid, \n",
    "                             cv=5, n_jobs =50, score = 'roc_auc', feat_imp = 'ensemble')\n"
   ]
  },
  {
   "cell_type": "code",
   "execution_count": 38,
   "metadata": {},
   "outputs": [
    {
     "name": "stdout",
     "output_type": "stream",
     "text": [
      "XGBoost Performance\n",
      "  Dataset       AUC      gini\n",
      "0   Train  0.938635  0.877270\n",
      "1    Test  0.927999  0.855998\n"
     ]
    }
   ],
   "source": [
    "print('XGBoost Performance')\n",
    "print(tab_xgb)"
   ]
  },
  {
   "cell_type": "code",
   "execution_count": 40,
   "metadata": {},
   "outputs": [
    {
     "name": "stdout",
     "output_type": "stream",
     "text": [
      "XGBOost variable Importance\n",
      "                                       Feature  Importance\n",
      "76                 marital--Married-civ-spouse    0.391055\n",
      "3                                education_num    0.078012\n",
      "4                                 capital_gain    0.043671\n",
      "95                  occupation--Prof-specialty    0.043075\n",
      "89                 occupation--Exec-managerial    0.035075\n",
      "..                                         ...         ...\n",
      "43                 native_country--Philippines    0.000000\n",
      "42                        native_country--Peru    0.000000\n",
      "41  native_country--Outlying-US(Guam-USVI-etc)    0.000000\n",
      "40                   native_country--Nicaragua    0.000000\n",
      "99                occupation--Transport-moving    0.000000\n",
      "\n",
      "[100 rows x 2 columns]\n"
     ]
    }
   ],
   "source": [
    "print('XGBOost variable Importance')\n",
    "print(imp_xgb)"
   ]
  },
  {
   "cell_type": "code",
   "execution_count": null,
   "metadata": {},
   "outputs": [],
   "source": [
    "print('-- Started Training Logistic Regression Model --')"
   ]
  },
  {
   "cell_type": "code",
   "execution_count": 67,
   "metadata": {},
   "outputs": [],
   "source": [
    "lr_grid = {'penalty':['l2'],\n",
    "           'C':[0.01, 0.1, 1, 10, 100],\n",
    "          }"
   ]
  },
  {
   "cell_type": "code",
   "execution_count": 74,
   "metadata": {},
   "outputs": [
    {
     "name": "stdout",
     "output_type": "stream",
     "text": [
      "Fitting 5 folds for each of 1 candidates, totalling 5 fits\n"
     ]
    },
    {
     "name": "stderr",
     "output_type": "stream",
     "text": [
      "[Parallel(n_jobs=50)]: Using backend LokyBackend with 50 concurrent workers.\n",
      "[Parallel(n_jobs=50)]: Done   2 out of   5 | elapsed:    1.3s remaining:    2.0s\n",
      "[Parallel(n_jobs=50)]: Done   3 out of   5 | elapsed:    1.3s remaining:    0.9s\n",
      "[Parallel(n_jobs=50)]: Done   5 out of   5 | elapsed:    1.4s remaining:    0.0s\n",
      "[Parallel(n_jobs=50)]: Done   5 out of   5 | elapsed:    1.4s finished\n"
     ]
    },
    {
     "name": "stdout",
     "output_type": "stream",
     "text": [
      "--best params--\n",
      "\n",
      "{'penalty': 'l2', 'C': 0.01}\n",
      "---------\n",
      "--best_scores-- \n",
      "\n",
      "0.8920989336320234\n"
     ]
    },
    {
     "data": {
      "image/png": "[encoded data removed]",
      "text/plain": [
       "<Figure size 432x288 with 1 Axes>"
      ]
     },
     "metadata": {
      "needs_background": "light"
     },
     "output_type": "display_data"
    },
    {
     "data": {
      "image/png": "[encoded data removed]",
      "text/plain": [
       "<Figure size 432x288 with 1 Axes>"
      ]
     },
     "metadata": {
      "needs_background": "light"
     },
     "output_type": "display_data"
    }
   ],
   "source": [
    "tab_lr, imp_lr = fit_model(LR, train_X2, train_Y, test_X2, test_Y, lr_grid, cv=5, n_jobs =50, score='roc_auc', feat_imp ='coeff')"
   ]
  },
  {
   "cell_type": "code",
   "execution_count": 43,
   "metadata": {},
   "outputs": [
    {
     "name": "stdout",
     "output_type": "stream",
     "text": [
      "Logistic Regression Performance\n",
      "  Dataset       AUC      gini\n",
      "0   Train  0.894488  0.788977\n",
      "1    Test  0.901541  0.803083\n"
     ]
    }
   ],
   "source": [
    "print('Logistic Regression Performance')\n",
    "print(tab_lr)"
   ]
  },
  {
   "cell_type": "code",
   "execution_count": 44,
   "metadata": {},
   "outputs": [
    {
     "name": "stdout",
     "output_type": "stream",
     "text": [
      "Logistic Regression Feature Importance\n"
     ]
    },
    {
     "data": {
      "text/html": [
       "<div>\n",
       "<style scoped>\n",
       "    .dataframe tbody tr th:only-of-type {\n",
       "        vertical-align: middle;\n",
       "    }\n",
       "\n",
       "    .dataframe tbody tr th {\n",
       "        vertical-align: top;\n",
       "    }\n",
       "\n",
       "    .dataframe thead th {\n",
       "        text-align: right;\n",
       "    }\n",
       "</style>\n",
       "<table border=\"1\" class=\"dataframe\">\n",
       "  <thead>\n",
       "    <tr style=\"text-align: right;\">\n",
       "      <th></th>\n",
       "      <th>Feature</th>\n",
       "      <th>Importance</th>\n",
       "    </tr>\n",
       "  </thead>\n",
       "  <tbody>\n",
       "    <tr>\n",
       "      <th>76</th>\n",
       "      <td>marital--Married-civ-spouse</td>\n",
       "      <td>0.073988</td>\n",
       "    </tr>\n",
       "    <tr>\n",
       "      <th>4</th>\n",
       "      <td>capital_gain</td>\n",
       "      <td>0.065174</td>\n",
       "    </tr>\n",
       "    <tr>\n",
       "      <th>3</th>\n",
       "      <td>education_num</td>\n",
       "      <td>0.064385</td>\n",
       "    </tr>\n",
       "    <tr>\n",
       "      <th>6</th>\n",
       "      <td>hours_week</td>\n",
       "      <td>0.052216</td>\n",
       "    </tr>\n",
       "    <tr>\n",
       "      <th>1</th>\n",
       "      <td>age</td>\n",
       "      <td>0.050719</td>\n",
       "    </tr>\n",
       "    <tr>\n",
       "      <th>...</th>\n",
       "      <td>...</td>\n",
       "      <td>...</td>\n",
       "    </tr>\n",
       "    <tr>\n",
       "      <th>51</th>\n",
       "      <td>native_country--Trinadad&amp;Tobago</td>\n",
       "      <td>0.000116</td>\n",
       "    </tr>\n",
       "    <tr>\n",
       "      <th>88</th>\n",
       "      <td>occupation--Craft-repair</td>\n",
       "      <td>0.000102</td>\n",
       "    </tr>\n",
       "    <tr>\n",
       "      <th>45</th>\n",
       "      <td>native_country--Portugal</td>\n",
       "      <td>0.000053</td>\n",
       "    </tr>\n",
       "    <tr>\n",
       "      <th>9</th>\n",
       "      <td>workclass--Never-worked</td>\n",
       "      <td>0.000038</td>\n",
       "    </tr>\n",
       "    <tr>\n",
       "      <th>30</th>\n",
       "      <td>native_country--Hong</td>\n",
       "      <td>0.000004</td>\n",
       "    </tr>\n",
       "  </tbody>\n",
       "</table>\n",
       "<p>100 rows × 2 columns</p>\n",
       "</div>"
      ],
      "text/plain": [
       "                            Feature  Importance\n",
       "76      marital--Married-civ-spouse    0.073988\n",
       "4                      capital_gain    0.065174\n",
       "3                     education_num    0.064385\n",
       "6                        hours_week    0.052216\n",
       "1                               age    0.050719\n",
       "..                              ...         ...\n",
       "51  native_country--Trinadad&Tobago    0.000116\n",
       "88         occupation--Craft-repair    0.000102\n",
       "45         native_country--Portugal    0.000053\n",
       "9           workclass--Never-worked    0.000038\n",
       "30             native_country--Hong    0.000004\n",
       "\n",
       "[100 rows x 2 columns]"
      ]
     },
     "execution_count": 44,
     "metadata": {},
     "output_type": "execute_result"
    }
   ],
   "source": [
    "print('Logistic Regression Feature Importance')\n",
    "(imp_lr)"
   ]
  },
  {
   "cell_type": "code",
   "execution_count": null,
   "metadata": {},
   "outputs": [],
   "source": [
    "model = XGBClassifier(n_estimators = 200, eta=0.1, max_depth=2)\n",
    "model.fit(train_X2, train_Y)\n",
    "\n",
    "imp_xgb_2 = pd.DataFrame(dict(zip(train_X2.columns, model.feature_importances_)).items()).sort_values(1, ascending =False)"
   ]
  },
  {
   "cell_type": "code",
   "execution_count": null,
   "metadata": {},
   "outputs": [],
   "source": [
    "imp_xgb_2"
   ]
  },
  {
   "cell_type": "code",
   "execution_count": null,
   "metadata": {},
   "outputs": [],
   "source": []
  },
  {
   "cell_type": "code",
   "execution_count": null,
   "metadata": {},
   "outputs": [],
   "source": []
  },
  {
   "cell_type": "code",
   "execution_count": null,
   "metadata": {},
   "outputs": [],
   "source": []
  }
 ],
 "metadata": {
  "kernelspec": {
   "display_name": "tf_2",
   "language": "python",
   "name": "tf_2"
  },
  "language_info": {
   "codemirror_mode": {
    "name": "ipython",
    "version": 3
   },
   "file_extension": ".py",
   "mimetype": "text/x-python",
   "name": "python",
   "nbconvert_exporter": "python",
   "pygments_lexer": "ipython3",
   "version": "3.7.1"
  }
 },
 "nbformat": 4,
 "nbformat_minor": 4
}
